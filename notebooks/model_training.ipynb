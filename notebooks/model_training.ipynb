{
 "cells": [
  {
   "cell_type": "code",
   "execution_count": null,
   "metadata": {},
   "outputs": [],
   "source": [
    "import sys\n",
    "import os\n",
    "%matplotlib inline\n",
    "sys.path.append(os.path.abspath('../src'))\n",
    "from model_training import train_model, get_untrained_custom_model, plot_training_history\n",
    "from utils import save_model, load_data, test_gpu"
   ]
  },
  {
   "cell_type": "code",
   "execution_count": null,
   "metadata": {},
   "outputs": [],
   "source": [
    "#making sure the gpu is available\n",
    "test_gpu()"
   ]
  },
  {
   "cell_type": "code",
   "execution_count": null,
   "metadata": {},
   "outputs": [],
   "source": [
    "#loading the datasets\n",
    "x_train = load_data(\"x_train.csv\")\n",
    "y_train = load_data(\"y_train.csv\")\n",
    "x_val = load_data(\"x_val.csv\")\n",
    "y_val = load_data(\"y_val.csv\")\n",
    "\n",
    "# Convert DataFrames to NumPy arrays and ensure correct data types\n",
    "import numpy as np\n",
    "x_train = x_train.to_numpy().astype(np.float32)\n",
    "y_train = y_train.to_numpy().astype(np.int32)\n",
    "x_val = x_val.to_numpy().astype(np.float32)\n",
    "y_val = y_val.to_numpy().astype(np.int32)"
   ]
  },
  {
   "cell_type": "code",
   "execution_count": null,
   "metadata": {},
   "outputs": [],
   "source": [
    "save_path = '../models'\n",
    "# Setting up hyperparameters\n",
    "batch_size = 32\n",
    "epochs = 32\n",
    "optimizer='adam'\n",
    "loss='categorical_crossentropy' \n",
    "metrics=['accuracy']"
   ]
  },
  {
   "cell_type": "code",
   "execution_count": null,
   "metadata": {},
   "outputs": [],
   "source": [
    "# Getting the model\n",
    "model = get_untrained_custom_model(optimizer=optimizer, loss=loss, metrics=metrics)"
   ]
  },
  {
   "cell_type": "code",
   "execution_count": null,
   "metadata": {},
   "outputs": [],
   "source": [
    "#traingin the random forest model \n",
    "model = train_model(model, x_train, y_train, epochs, x_val, y_val)"
   ]
  },
  {
   "cell_type": "code",
   "execution_count": null,
   "metadata": {},
   "outputs": [],
   "source": [
    "# Training the model\n",
    "# if should_train == True:\n",
    "history = train_model(model, x_train, y_train, epochs, x_val, y_val)"
   ]
  },
  {
   "cell_type": "code",
   "execution_count": null,
   "metadata": {},
   "outputs": [],
   "source": [
    "# Get predictions on the training data\n",
    "plot_training_history(history)"
   ]
  },
  {
   "cell_type": "code",
   "execution_count": null,
   "metadata": {},
   "outputs": [],
   "source": [
    "# Saving the model\n",
    "save_model(model, save_path)"
   ]
  }
 ],
 "metadata": {
  "kernelspec": {
   "display_name": "Python 3 (ipykernel)",
   "language": "python",
   "name": "python3"
  },
  "language_info": {
   "codemirror_mode": {
    "name": "ipython",
    "version": 3
   },
   "file_extension": ".py",
   "mimetype": "text/x-python",
   "name": "python",
   "nbconvert_exporter": "python",
   "pygments_lexer": "ipython3",
   "version": "3.9.19"
  }
 },
 "nbformat": 4,
 "nbformat_minor": 2
}
