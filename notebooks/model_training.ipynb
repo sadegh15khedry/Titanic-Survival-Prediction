{
 "cells": [
  {
   "cell_type": "code",
   "execution_count": 1,
   "metadata": {},
   "outputs": [
    {
     "name": "stderr",
     "output_type": "stream",
     "text": [
      "2024-07-09 09:00:12.240352: I tensorflow/stream_executor/platform/default/dso_loader.cc:53] Successfully opened dynamic library libcudart.so.11.0\n"
     ]
    }
   ],
   "source": [
    "import sys\n",
    "import os\n",
    "%matplotlib inline\n",
    "sys.path.append(os.path.abspath('../src'))\n",
    "from model_training import train_model, get_untrained_custom_model, plot_training_history\n",
    "from utils import save_model, load_data, test_gpu"
   ]
  },
  {
   "cell_type": "code",
   "execution_count": 2,
   "metadata": {},
   "outputs": [
    {
     "name": "stdout",
     "output_type": "stream",
     "text": [
      "Num GPUs Available:  1\n"
     ]
    },
    {
     "name": "stderr",
     "output_type": "stream",
     "text": [
      "2024-07-09 09:00:14.940973: I tensorflow/stream_executor/platform/default/dso_loader.cc:53] Successfully opened dynamic library libcuda.so.1\n",
      "2024-07-09 09:00:15.784217: I tensorflow/stream_executor/cuda/cuda_gpu_executor.cc:923] could not open file to read NUMA node: /sys/bus/pci/devices/0000:01:00.0/numa_node\n",
      "Your kernel may have been built without NUMA support.\n",
      "2024-07-09 09:00:15.784278: I tensorflow/core/common_runtime/gpu/gpu_device.cc:1733] Found device 0 with properties: \n",
      "pciBusID: 0000:01:00.0 name: NVIDIA GeForce RTX 3060 Laptop GPU computeCapability: 8.6\n",
      "coreClock: 1.425GHz coreCount: 30 deviceMemorySize: 6.00GiB deviceMemoryBandwidth: 312.97GiB/s\n",
      "2024-07-09 09:00:15.784295: I tensorflow/stream_executor/platform/default/dso_loader.cc:53] Successfully opened dynamic library libcudart.so.11.0\n",
      "2024-07-09 09:00:15.791841: I tensorflow/stream_executor/platform/default/dso_loader.cc:53] Successfully opened dynamic library libcublas.so.11\n",
      "2024-07-09 09:00:15.791976: I tensorflow/stream_executor/platform/default/dso_loader.cc:53] Successfully opened dynamic library libcublasLt.so.11\n",
      "2024-07-09 09:00:15.793203: I tensorflow/stream_executor/platform/default/dso_loader.cc:53] Successfully opened dynamic library libcufft.so.10\n",
      "2024-07-09 09:00:15.794600: I tensorflow/stream_executor/platform/default/dso_loader.cc:53] Successfully opened dynamic library libcurand.so.10\n",
      "2024-07-09 09:00:15.795685: I tensorflow/stream_executor/platform/default/dso_loader.cc:53] Successfully opened dynamic library libcusolver.so.11\n",
      "2024-07-09 09:00:15.797029: I tensorflow/stream_executor/platform/default/dso_loader.cc:53] Successfully opened dynamic library libcusparse.so.11\n",
      "2024-07-09 09:00:15.797219: I tensorflow/stream_executor/platform/default/dso_loader.cc:53] Successfully opened dynamic library libcudnn.so.8\n",
      "2024-07-09 09:00:15.797374: I tensorflow/stream_executor/cuda/cuda_gpu_executor.cc:923] could not open file to read NUMA node: /sys/bus/pci/devices/0000:01:00.0/numa_node\n",
      "Your kernel may have been built without NUMA support.\n",
      "2024-07-09 09:00:15.797416: I tensorflow/stream_executor/cuda/cuda_gpu_executor.cc:923] could not open file to read NUMA node: /sys/bus/pci/devices/0000:01:00.0/numa_node\n",
      "Your kernel may have been built without NUMA support.\n",
      "2024-07-09 09:00:15.797433: I tensorflow/core/common_runtime/gpu/gpu_device.cc:1871] Adding visible gpu devices: 0\n"
     ]
    }
   ],
   "source": [
    "#making sure the gpu is available\n",
    "test_gpu()"
   ]
  },
  {
   "cell_type": "code",
   "execution_count": 3,
   "metadata": {},
   "outputs": [],
   "source": [
    "train_data_path = '../datasets/ready/train/'\n",
    "val_data_path = '../datasets/ready/val/'\n",
    "\n",
    "#loading the datasets\n",
    "x_train = load_data(train_data_path+\"x_train.csv\")\n",
    "y_train = load_data(train_data_path+\"y_train.csv\")\n",
    "x_val = load_data(val_data_path+\"/x_val.csv\")\n",
    "y_val = load_data(val_data_path+\"/y_val.csv\")"
   ]
  },
  {
   "cell_type": "code",
   "execution_count": 4,
   "metadata": {},
   "outputs": [],
   "source": [
    "save_path = '../models'\n",
    "# Setting up hyperparameters\n",
    "batch_size = 1024\n",
    "epochs = 128\n",
    "optimizer='adam'\n",
    "loss='binary_crossentropy' \n",
    "metrics=['accuracy']"
   ]
  },
  {
   "cell_type": "code",
   "execution_count": 5,
   "metadata": {},
   "outputs": [
    {
     "name": "stderr",
     "output_type": "stream",
     "text": [
      "2024-07-09 09:00:15.997690: I tensorflow/core/platform/cpu_feature_guard.cc:142] This TensorFlow binary is optimized with oneAPI Deep Neural Network Library (oneDNN) to use the following CPU instructions in performance-critical operations:  AVX2 AVX512F FMA\n",
      "To enable them in other operations, rebuild TensorFlow with the appropriate compiler flags.\n",
      "2024-07-09 09:00:16.001533: I tensorflow/stream_executor/cuda/cuda_gpu_executor.cc:923] could not open file to read NUMA node: /sys/bus/pci/devices/0000:01:00.0/numa_node\n",
      "Your kernel may have been built without NUMA support.\n",
      "2024-07-09 09:00:16.001588: I tensorflow/core/common_runtime/gpu/gpu_device.cc:1733] Found device 0 with properties: \n",
      "pciBusID: 0000:01:00.0 name: NVIDIA GeForce RTX 3060 Laptop GPU computeCapability: 8.6\n",
      "coreClock: 1.425GHz coreCount: 30 deviceMemorySize: 6.00GiB deviceMemoryBandwidth: 312.97GiB/s\n",
      "2024-07-09 09:00:16.001629: I tensorflow/stream_executor/cuda/cuda_gpu_executor.cc:923] could not open file to read NUMA node: /sys/bus/pci/devices/0000:01:00.0/numa_node\n",
      "Your kernel may have been built without NUMA support.\n",
      "2024-07-09 09:00:16.001651: I tensorflow/stream_executor/cuda/cuda_gpu_executor.cc:923] could not open file to read NUMA node: /sys/bus/pci/devices/0000:01:00.0/numa_node\n",
      "Your kernel may have been built without NUMA support.\n",
      "2024-07-09 09:00:16.001659: I tensorflow/core/common_runtime/gpu/gpu_device.cc:1871] Adding visible gpu devices: 0\n",
      "2024-07-09 09:00:16.001724: I tensorflow/stream_executor/platform/default/dso_loader.cc:53] Successfully opened dynamic library libcudart.so.11.0\n",
      "2024-07-09 09:00:17.052096: I tensorflow/core/common_runtime/gpu/gpu_device.cc:1258] Device interconnect StreamExecutor with strength 1 edge matrix:\n",
      "2024-07-09 09:00:17.052133: I tensorflow/core/common_runtime/gpu/gpu_device.cc:1264]      0 \n",
      "2024-07-09 09:00:17.052139: I tensorflow/core/common_runtime/gpu/gpu_device.cc:1277] 0:   N \n",
      "2024-07-09 09:00:17.052486: I tensorflow/stream_executor/cuda/cuda_gpu_executor.cc:923] could not open file to read NUMA node: /sys/bus/pci/devices/0000:01:00.0/numa_node\n",
      "Your kernel may have been built without NUMA support.\n",
      "2024-07-09 09:00:17.052535: I tensorflow/stream_executor/cuda/cuda_gpu_executor.cc:923] could not open file to read NUMA node: /sys/bus/pci/devices/0000:01:00.0/numa_node\n",
      "Your kernel may have been built without NUMA support.\n",
      "2024-07-09 09:00:17.052542: I tensorflow/core/common_runtime/gpu/gpu_device.cc:1501] Could not identify NUMA node of platform GPU id 0, defaulting to 0.  Your kernel may not have been built with NUMA support.\n",
      "2024-07-09 09:00:17.052667: I tensorflow/stream_executor/cuda/cuda_gpu_executor.cc:923] could not open file to read NUMA node: /sys/bus/pci/devices/0000:01:00.0/numa_node\n",
      "Your kernel may have been built without NUMA support.\n",
      "2024-07-09 09:00:17.052736: I tensorflow/core/common_runtime/gpu/gpu_device.cc:1418] Created TensorFlow device (/job:localhost/replica:0/task:0/device:GPU:0 with 3436 MB memory) -> physical GPU (device: 0, name: NVIDIA GeForce RTX 3060 Laptop GPU, pci bus id: 0000:01:00.0, compute capability: 8.6)\n"
     ]
    }
   ],
   "source": [
    "# Getting the model\n",
    "model = get_untrained_custom_model(optimizer=optimizer, loss=loss, metrics=metrics)"
   ]
  },
  {
   "cell_type": "code",
   "execution_count": 6,
   "metadata": {},
   "outputs": [
    {
     "name": "stdout",
     "output_type": "stream",
     "text": [
      "Epoch 1/128\n",
      "1/1 [==============================] - ETA: 0s - loss: 7.2521 - accuracy: 0.5794"
     ]
    },
    {
     "name": "stderr",
     "output_type": "stream",
     "text": [
      "2024-07-09 09:00:17.270104: I tensorflow/compiler/mlir/mlir_graph_optimization_pass.cc:176] None of the MLIR Optimization Passes are enabled (registered 2)\n",
      "2024-07-09 09:00:17.270543: I tensorflow/core/platform/profile_utils/cpu_utils.cc:114] CPU Frequency: 2496000000 Hz\n"
     ]
    },
    {
     "name": "stdout",
     "output_type": "stream",
     "text": [
      "1/1 [==============================] - 0s 294ms/step - loss: 7.2521 - accuracy: 0.5794 - val_loss: 7.0961 - val_accuracy: 0.5524\n",
      "Epoch 2/128\n",
      "1/1 [==============================] - 0s 32ms/step - loss: 7.2521 - accuracy: 0.5794 - val_loss: 7.0961 - val_accuracy: 0.5524\n",
      "Epoch 3/128\n",
      "1/1 [==============================] - 0s 35ms/step - loss: 7.2521 - accuracy: 0.5794 - val_loss: 7.0961 - val_accuracy: 0.5524\n",
      "Epoch 4/128\n",
      "1/1 [==============================] - 0s 38ms/step - loss: 7.2521 - accuracy: 0.5794 - val_loss: 7.0961 - val_accuracy: 0.5524\n",
      "Epoch 5/128\n",
      "1/1 [==============================] - 0s 45ms/step - loss: 7.2521 - accuracy: 0.5794 - val_loss: 7.0961 - val_accuracy: 0.5524\n",
      "Epoch 6/128\n",
      "1/1 [==============================] - 0s 29ms/step - loss: 7.2521 - accuracy: 0.5794 - val_loss: 7.0961 - val_accuracy: 0.5524\n",
      "Epoch 7/128\n",
      "1/1 [==============================] - 0s 36ms/step - loss: 7.2521 - accuracy: 0.5794 - val_loss: 7.0961 - val_accuracy: 0.5524\n",
      "Epoch 8/128\n",
      "1/1 [==============================] - 0s 24ms/step - loss: 7.2521 - accuracy: 0.5794 - val_loss: 7.0961 - val_accuracy: 0.5524\n",
      "Epoch 9/128\n",
      "1/1 [==============================] - 0s 28ms/step - loss: 7.2521 - accuracy: 0.5794 - val_loss: 7.0961 - val_accuracy: 0.5524\n",
      "Epoch 10/128\n",
      "1/1 [==============================] - 0s 22ms/step - loss: 7.2521 - accuracy: 0.5794 - val_loss: 7.0961 - val_accuracy: 0.5524\n",
      "Epoch 11/128\n",
      "1/1 [==============================] - 0s 28ms/step - loss: 7.2521 - accuracy: 0.5794 - val_loss: 7.0961 - val_accuracy: 0.5524\n",
      "Epoch 12/128\n",
      "1/1 [==============================] - 0s 25ms/step - loss: 7.2521 - accuracy: 0.5794 - val_loss: 7.0961 - val_accuracy: 0.5524\n",
      "Epoch 13/128\n",
      "1/1 [==============================] - 0s 40ms/step - loss: 7.2521 - accuracy: 0.5794 - val_loss: 7.0961 - val_accuracy: 0.5524\n",
      "Epoch 14/128\n",
      "1/1 [==============================] - 0s 33ms/step - loss: 7.2521 - accuracy: 0.5794 - val_loss: 7.0961 - val_accuracy: 0.5524\n",
      "Epoch 15/128\n",
      "1/1 [==============================] - 0s 25ms/step - loss: 7.2521 - accuracy: 0.5794 - val_loss: 7.0961 - val_accuracy: 0.5524\n",
      "Epoch 16/128\n",
      "1/1 [==============================] - 0s 35ms/step - loss: 7.2521 - accuracy: 0.5794 - val_loss: 7.0961 - val_accuracy: 0.5524\n",
      "Epoch 17/128\n",
      "1/1 [==============================] - 0s 27ms/step - loss: 7.2521 - accuracy: 0.5794 - val_loss: 7.0961 - val_accuracy: 0.5524\n",
      "Epoch 18/128\n",
      "1/1 [==============================] - 0s 22ms/step - loss: 7.2521 - accuracy: 0.5794 - val_loss: 7.0961 - val_accuracy: 0.5524\n",
      "Epoch 19/128\n",
      "1/1 [==============================] - 0s 24ms/step - loss: 7.2521 - accuracy: 0.5794 - val_loss: 7.0961 - val_accuracy: 0.5524\n",
      "Epoch 20/128\n",
      "1/1 [==============================] - 0s 20ms/step - loss: 7.2521 - accuracy: 0.5794 - val_loss: 7.0961 - val_accuracy: 0.5524\n",
      "Epoch 21/128\n",
      "1/1 [==============================] - 0s 22ms/step - loss: 7.2521 - accuracy: 0.5794 - val_loss: 7.0961 - val_accuracy: 0.5524\n",
      "Epoch 22/128\n",
      "1/1 [==============================] - 0s 20ms/step - loss: 7.2521 - accuracy: 0.5794 - val_loss: 7.0961 - val_accuracy: 0.5524\n",
      "Epoch 23/128\n",
      "1/1 [==============================] - 0s 19ms/step - loss: 7.2521 - accuracy: 0.5794 - val_loss: 7.0961 - val_accuracy: 0.5524\n",
      "Epoch 24/128\n",
      "1/1 [==============================] - 0s 22ms/step - loss: 7.2521 - accuracy: 0.5794 - val_loss: 7.0961 - val_accuracy: 0.5524\n",
      "Epoch 25/128\n",
      "1/1 [==============================] - 0s 24ms/step - loss: 7.2521 - accuracy: 0.5794 - val_loss: 7.0961 - val_accuracy: 0.5524\n",
      "Epoch 26/128\n",
      "1/1 [==============================] - 0s 22ms/step - loss: 7.2521 - accuracy: 0.5794 - val_loss: 7.0961 - val_accuracy: 0.5524\n",
      "Epoch 27/128\n",
      "1/1 [==============================] - 0s 20ms/step - loss: 7.2521 - accuracy: 0.5794 - val_loss: 7.0961 - val_accuracy: 0.5524\n",
      "Epoch 28/128\n",
      "1/1 [==============================] - 0s 22ms/step - loss: 7.2521 - accuracy: 0.5794 - val_loss: 7.0961 - val_accuracy: 0.5524\n",
      "Epoch 29/128\n",
      "1/1 [==============================] - 0s 21ms/step - loss: 7.2521 - accuracy: 0.5794 - val_loss: 7.0961 - val_accuracy: 0.5524\n",
      "Epoch 30/128\n",
      "1/1 [==============================] - 0s 24ms/step - loss: 7.2521 - accuracy: 0.5794 - val_loss: 7.0961 - val_accuracy: 0.5524\n",
      "Epoch 31/128\n",
      "1/1 [==============================] - 0s 23ms/step - loss: 7.2521 - accuracy: 0.5794 - val_loss: 7.0961 - val_accuracy: 0.5524\n",
      "Epoch 32/128\n",
      "1/1 [==============================] - 0s 26ms/step - loss: 7.2521 - accuracy: 0.5794 - val_loss: 7.0961 - val_accuracy: 0.5524\n",
      "Epoch 33/128\n",
      "1/1 [==============================] - 0s 25ms/step - loss: 7.2521 - accuracy: 0.5794 - val_loss: 7.0961 - val_accuracy: 0.5524\n",
      "Epoch 34/128\n",
      "1/1 [==============================] - 0s 28ms/step - loss: 7.2521 - accuracy: 0.5794 - val_loss: 7.0961 - val_accuracy: 0.5524\n",
      "Epoch 35/128\n",
      "1/1 [==============================] - 0s 26ms/step - loss: 7.2521 - accuracy: 0.5794 - val_loss: 7.0961 - val_accuracy: 0.5524\n",
      "Epoch 36/128\n",
      "1/1 [==============================] - 0s 23ms/step - loss: 7.2521 - accuracy: 0.5794 - val_loss: 7.0961 - val_accuracy: 0.5524\n",
      "Epoch 37/128\n",
      "1/1 [==============================] - 0s 26ms/step - loss: 7.2521 - accuracy: 0.5794 - val_loss: 7.0961 - val_accuracy: 0.5524\n",
      "Epoch 38/128\n",
      "1/1 [==============================] - 0s 23ms/step - loss: 7.2521 - accuracy: 0.5794 - val_loss: 7.0961 - val_accuracy: 0.5524\n",
      "Epoch 39/128\n",
      "1/1 [==============================] - 0s 21ms/step - loss: 7.2521 - accuracy: 0.5794 - val_loss: 7.0961 - val_accuracy: 0.5524\n",
      "Epoch 40/128\n",
      "1/1 [==============================] - 0s 24ms/step - loss: 7.2521 - accuracy: 0.5794 - val_loss: 7.0961 - val_accuracy: 0.5524\n",
      "Epoch 41/128\n",
      "1/1 [==============================] - 0s 19ms/step - loss: 7.2521 - accuracy: 0.5794 - val_loss: 7.0961 - val_accuracy: 0.5524\n",
      "Epoch 42/128\n",
      "1/1 [==============================] - 0s 22ms/step - loss: 7.2521 - accuracy: 0.5794 - val_loss: 7.0961 - val_accuracy: 0.5524\n",
      "Epoch 43/128\n",
      "1/1 [==============================] - 0s 23ms/step - loss: 7.2521 - accuracy: 0.5794 - val_loss: 7.0961 - val_accuracy: 0.5524\n",
      "Epoch 44/128\n",
      "1/1 [==============================] - 0s 47ms/step - loss: 7.2521 - accuracy: 0.5794 - val_loss: 7.0961 - val_accuracy: 0.5524\n",
      "Epoch 45/128\n",
      "1/1 [==============================] - 0s 34ms/step - loss: 7.2521 - accuracy: 0.5794 - val_loss: 7.0961 - val_accuracy: 0.5524\n",
      "Epoch 46/128\n",
      "1/1 [==============================] - 0s 23ms/step - loss: 7.2521 - accuracy: 0.5794 - val_loss: 7.0961 - val_accuracy: 0.5524\n",
      "Epoch 47/128\n",
      "1/1 [==============================] - 0s 25ms/step - loss: 7.2521 - accuracy: 0.5794 - val_loss: 7.0961 - val_accuracy: 0.5524\n",
      "Epoch 48/128\n",
      "1/1 [==============================] - 0s 23ms/step - loss: 7.2521 - accuracy: 0.5794 - val_loss: 7.0961 - val_accuracy: 0.5524\n",
      "Epoch 49/128\n",
      "1/1 [==============================] - 0s 24ms/step - loss: 7.2521 - accuracy: 0.5794 - val_loss: 7.0961 - val_accuracy: 0.5524\n",
      "Epoch 50/128\n",
      "1/1 [==============================] - 0s 25ms/step - loss: 7.2521 - accuracy: 0.5794 - val_loss: 7.0961 - val_accuracy: 0.5524\n",
      "Epoch 51/128\n",
      "1/1 [==============================] - 0s 25ms/step - loss: 7.2521 - accuracy: 0.5794 - val_loss: 7.0961 - val_accuracy: 0.5524\n",
      "Epoch 52/128\n",
      "1/1 [==============================] - 0s 24ms/step - loss: 7.2521 - accuracy: 0.5794 - val_loss: 7.0961 - val_accuracy: 0.5524\n",
      "Epoch 53/128\n",
      "1/1 [==============================] - 0s 24ms/step - loss: 7.2521 - accuracy: 0.5794 - val_loss: 7.0961 - val_accuracy: 0.5524\n",
      "Epoch 54/128\n",
      "1/1 [==============================] - 0s 26ms/step - loss: 7.2521 - accuracy: 0.5794 - val_loss: 7.0961 - val_accuracy: 0.5524\n",
      "Epoch 55/128\n",
      "1/1 [==============================] - 0s 34ms/step - loss: 7.2521 - accuracy: 0.5794 - val_loss: 7.0961 - val_accuracy: 0.5524\n",
      "Epoch 56/128\n",
      "1/1 [==============================] - 0s 30ms/step - loss: 7.2521 - accuracy: 0.5794 - val_loss: 7.0961 - val_accuracy: 0.5524\n",
      "Epoch 57/128\n",
      "1/1 [==============================] - 0s 22ms/step - loss: 7.2521 - accuracy: 0.5794 - val_loss: 7.0961 - val_accuracy: 0.5524\n",
      "Epoch 58/128\n",
      "1/1 [==============================] - 0s 26ms/step - loss: 7.2521 - accuracy: 0.5794 - val_loss: 7.0961 - val_accuracy: 0.5524\n",
      "Epoch 59/128\n",
      "1/1 [==============================] - 0s 24ms/step - loss: 7.2521 - accuracy: 0.5794 - val_loss: 7.0961 - val_accuracy: 0.5524\n",
      "Epoch 60/128\n",
      "1/1 [==============================] - 0s 22ms/step - loss: 7.2521 - accuracy: 0.5794 - val_loss: 7.0961 - val_accuracy: 0.5524\n",
      "Epoch 61/128\n",
      "1/1 [==============================] - 0s 20ms/step - loss: 7.2521 - accuracy: 0.5794 - val_loss: 7.0961 - val_accuracy: 0.5524\n",
      "Epoch 62/128\n",
      "1/1 [==============================] - 0s 24ms/step - loss: 7.2521 - accuracy: 0.5794 - val_loss: 7.0961 - val_accuracy: 0.5524\n",
      "Epoch 63/128\n",
      "1/1 [==============================] - 0s 23ms/step - loss: 7.2521 - accuracy: 0.5794 - val_loss: 7.0961 - val_accuracy: 0.5524\n",
      "Epoch 64/128\n",
      "1/1 [==============================] - 0s 26ms/step - loss: 7.2521 - accuracy: 0.5794 - val_loss: 7.0961 - val_accuracy: 0.5524\n",
      "Epoch 65/128\n",
      "1/1 [==============================] - 0s 34ms/step - loss: 7.2521 - accuracy: 0.5794 - val_loss: 7.0961 - val_accuracy: 0.5524\n",
      "Epoch 66/128\n",
      "1/1 [==============================] - 0s 36ms/step - loss: 7.2521 - accuracy: 0.5794 - val_loss: 7.0961 - val_accuracy: 0.5524\n",
      "Epoch 67/128\n",
      "1/1 [==============================] - 0s 23ms/step - loss: 7.2521 - accuracy: 0.5794 - val_loss: 7.0961 - val_accuracy: 0.5524\n",
      "Epoch 68/128\n",
      "1/1 [==============================] - 0s 26ms/step - loss: 7.2521 - accuracy: 0.5794 - val_loss: 7.0961 - val_accuracy: 0.5524\n",
      "Epoch 69/128\n",
      "1/1 [==============================] - 0s 28ms/step - loss: 7.2521 - accuracy: 0.5794 - val_loss: 7.0961 - val_accuracy: 0.5524\n",
      "Epoch 70/128\n",
      "1/1 [==============================] - 0s 23ms/step - loss: 7.2521 - accuracy: 0.5794 - val_loss: 7.0961 - val_accuracy: 0.5524\n",
      "Epoch 71/128\n",
      "1/1 [==============================] - 0s 25ms/step - loss: 7.2521 - accuracy: 0.5794 - val_loss: 7.0961 - val_accuracy: 0.5524\n",
      "Epoch 72/128\n",
      "1/1 [==============================] - 0s 23ms/step - loss: 7.2521 - accuracy: 0.5794 - val_loss: 7.0961 - val_accuracy: 0.5524\n",
      "Epoch 73/128\n",
      "1/1 [==============================] - 0s 31ms/step - loss: 7.2521 - accuracy: 0.5794 - val_loss: 7.0961 - val_accuracy: 0.5524\n",
      "Epoch 74/128\n",
      "1/1 [==============================] - 0s 34ms/step - loss: 7.2521 - accuracy: 0.5794 - val_loss: 7.0961 - val_accuracy: 0.5524\n",
      "Epoch 75/128\n",
      "1/1 [==============================] - 0s 41ms/step - loss: 7.2521 - accuracy: 0.5794 - val_loss: 7.0961 - val_accuracy: 0.5524\n",
      "Epoch 76/128\n",
      "1/1 [==============================] - 0s 34ms/step - loss: 7.2521 - accuracy: 0.5794 - val_loss: 7.0961 - val_accuracy: 0.5524\n",
      "Epoch 77/128\n",
      "1/1 [==============================] - 0s 25ms/step - loss: 7.2521 - accuracy: 0.5794 - val_loss: 7.0961 - val_accuracy: 0.5524\n",
      "Epoch 78/128\n",
      "1/1 [==============================] - 0s 27ms/step - loss: 7.2521 - accuracy: 0.5794 - val_loss: 7.0961 - val_accuracy: 0.5524\n",
      "Epoch 79/128\n",
      "1/1 [==============================] - 0s 22ms/step - loss: 7.2521 - accuracy: 0.5794 - val_loss: 7.0961 - val_accuracy: 0.5524\n",
      "Epoch 80/128\n",
      "1/1 [==============================] - 0s 24ms/step - loss: 7.2521 - accuracy: 0.5794 - val_loss: 7.0961 - val_accuracy: 0.5524\n",
      "Epoch 81/128\n",
      "1/1 [==============================] - 0s 27ms/step - loss: 7.2521 - accuracy: 0.5794 - val_loss: 7.0961 - val_accuracy: 0.5524\n",
      "Epoch 82/128\n",
      "1/1 [==============================] - 0s 26ms/step - loss: 7.2521 - accuracy: 0.5794 - val_loss: 7.0961 - val_accuracy: 0.5524\n",
      "Epoch 83/128\n",
      "1/1 [==============================] - 0s 24ms/step - loss: 7.2521 - accuracy: 0.5794 - val_loss: 7.0961 - val_accuracy: 0.5524\n",
      "Epoch 84/128\n",
      "1/1 [==============================] - 0s 30ms/step - loss: 7.2521 - accuracy: 0.5794 - val_loss: 7.0961 - val_accuracy: 0.5524\n",
      "Epoch 85/128\n",
      "1/1 [==============================] - 0s 23ms/step - loss: 7.2521 - accuracy: 0.5794 - val_loss: 7.0961 - val_accuracy: 0.5524\n",
      "Epoch 86/128\n",
      "1/1 [==============================] - 0s 22ms/step - loss: 7.2521 - accuracy: 0.5794 - val_loss: 7.0961 - val_accuracy: 0.5524\n",
      "Epoch 87/128\n",
      "1/1 [==============================] - 0s 22ms/step - loss: 7.2521 - accuracy: 0.5794 - val_loss: 7.0961 - val_accuracy: 0.5524\n",
      "Epoch 88/128\n",
      "1/1 [==============================] - 0s 24ms/step - loss: 7.2521 - accuracy: 0.5794 - val_loss: 7.0961 - val_accuracy: 0.5524\n",
      "Epoch 89/128\n",
      "1/1 [==============================] - 0s 26ms/step - loss: 7.2521 - accuracy: 0.5794 - val_loss: 7.0961 - val_accuracy: 0.5524\n",
      "Epoch 90/128\n",
      "1/1 [==============================] - 0s 24ms/step - loss: 7.2521 - accuracy: 0.5794 - val_loss: 7.0961 - val_accuracy: 0.5524\n",
      "Epoch 91/128\n",
      "1/1 [==============================] - 0s 26ms/step - loss: 7.2521 - accuracy: 0.5794 - val_loss: 7.0961 - val_accuracy: 0.5524\n",
      "Epoch 92/128\n",
      "1/1 [==============================] - 0s 23ms/step - loss: 7.2521 - accuracy: 0.5794 - val_loss: 7.0961 - val_accuracy: 0.5524\n",
      "Epoch 93/128\n",
      "1/1 [==============================] - 0s 22ms/step - loss: 7.2521 - accuracy: 0.5794 - val_loss: 7.0961 - val_accuracy: 0.5524\n",
      "Epoch 94/128\n",
      "1/1 [==============================] - 0s 22ms/step - loss: 7.2521 - accuracy: 0.5794 - val_loss: 7.0961 - val_accuracy: 0.5524\n",
      "Epoch 95/128\n",
      "1/1 [==============================] - 0s 25ms/step - loss: 7.2521 - accuracy: 0.5794 - val_loss: 7.0961 - val_accuracy: 0.5524\n",
      "Epoch 96/128\n",
      "1/1 [==============================] - 0s 22ms/step - loss: 7.2521 - accuracy: 0.5794 - val_loss: 7.0961 - val_accuracy: 0.5524\n",
      "Epoch 97/128\n",
      "1/1 [==============================] - 0s 22ms/step - loss: 7.2521 - accuracy: 0.5794 - val_loss: 7.0961 - val_accuracy: 0.5524\n",
      "Epoch 98/128\n",
      "1/1 [==============================] - 0s 24ms/step - loss: 7.2521 - accuracy: 0.5794 - val_loss: 7.0961 - val_accuracy: 0.5524\n",
      "Epoch 99/128\n",
      "1/1 [==============================] - 0s 23ms/step - loss: 7.2521 - accuracy: 0.5794 - val_loss: 7.0961 - val_accuracy: 0.5524\n",
      "Epoch 100/128\n",
      "1/1 [==============================] - 0s 28ms/step - loss: 7.2521 - accuracy: 0.5794 - val_loss: 7.0961 - val_accuracy: 0.5524\n",
      "Epoch 101/128\n",
      "1/1 [==============================] - 0s 24ms/step - loss: 7.2521 - accuracy: 0.5794 - val_loss: 7.0961 - val_accuracy: 0.5524\n",
      "Epoch 102/128\n",
      "1/1 [==============================] - 0s 39ms/step - loss: 7.2521 - accuracy: 0.5794 - val_loss: 7.0961 - val_accuracy: 0.5524\n",
      "Epoch 103/128\n",
      "1/1 [==============================] - 0s 36ms/step - loss: 7.2521 - accuracy: 0.5794 - val_loss: 7.0961 - val_accuracy: 0.5524\n",
      "Epoch 104/128\n",
      "1/1 [==============================] - 0s 24ms/step - loss: 7.2521 - accuracy: 0.5794 - val_loss: 7.0961 - val_accuracy: 0.5524\n",
      "Epoch 105/128\n",
      "1/1 [==============================] - 0s 32ms/step - loss: 7.2521 - accuracy: 0.5794 - val_loss: 7.0961 - val_accuracy: 0.5524\n",
      "Epoch 106/128\n",
      "1/1 [==============================] - 0s 21ms/step - loss: 7.2521 - accuracy: 0.5794 - val_loss: 7.0961 - val_accuracy: 0.5524\n",
      "Epoch 107/128\n",
      "1/1 [==============================] - 0s 26ms/step - loss: 7.2521 - accuracy: 0.5794 - val_loss: 7.0961 - val_accuracy: 0.5524\n",
      "Epoch 108/128\n",
      "1/1 [==============================] - 0s 22ms/step - loss: 7.2521 - accuracy: 0.5794 - val_loss: 7.0961 - val_accuracy: 0.5524\n",
      "Epoch 109/128\n",
      "1/1 [==============================] - 0s 20ms/step - loss: 7.2521 - accuracy: 0.5794 - val_loss: 7.0961 - val_accuracy: 0.5524\n",
      "Epoch 110/128\n",
      "1/1 [==============================] - 0s 22ms/step - loss: 7.2521 - accuracy: 0.5794 - val_loss: 7.0961 - val_accuracy: 0.5524\n",
      "Epoch 111/128\n",
      "1/1 [==============================] - 0s 23ms/step - loss: 7.2521 - accuracy: 0.5794 - val_loss: 7.0961 - val_accuracy: 0.5524\n",
      "Epoch 112/128\n",
      "1/1 [==============================] - 0s 26ms/step - loss: 7.2521 - accuracy: 0.5794 - val_loss: 7.0961 - val_accuracy: 0.5524\n",
      "Epoch 113/128\n",
      "1/1 [==============================] - 0s 28ms/step - loss: 7.2521 - accuracy: 0.5794 - val_loss: 7.0961 - val_accuracy: 0.5524\n",
      "Epoch 114/128\n",
      "1/1 [==============================] - 0s 28ms/step - loss: 7.2521 - accuracy: 0.5794 - val_loss: 7.0961 - val_accuracy: 0.5524\n",
      "Epoch 115/128\n",
      "1/1 [==============================] - 0s 26ms/step - loss: 7.2521 - accuracy: 0.5794 - val_loss: 7.0961 - val_accuracy: 0.5524\n",
      "Epoch 116/128\n",
      "1/1 [==============================] - 0s 22ms/step - loss: 7.2521 - accuracy: 0.5794 - val_loss: 7.0961 - val_accuracy: 0.5524\n",
      "Epoch 117/128\n",
      "1/1 [==============================] - 0s 22ms/step - loss: 7.2521 - accuracy: 0.5794 - val_loss: 7.0961 - val_accuracy: 0.5524\n",
      "Epoch 118/128\n",
      "1/1 [==============================] - 0s 23ms/step - loss: 7.2521 - accuracy: 0.5794 - val_loss: 7.0961 - val_accuracy: 0.5524\n",
      "Epoch 119/128\n",
      "1/1 [==============================] - 0s 22ms/step - loss: 7.2521 - accuracy: 0.5794 - val_loss: 7.0961 - val_accuracy: 0.5524\n",
      "Epoch 120/128\n",
      "1/1 [==============================] - 0s 23ms/step - loss: 7.2521 - accuracy: 0.5794 - val_loss: 7.0961 - val_accuracy: 0.5524\n",
      "Epoch 121/128\n",
      "1/1 [==============================] - 0s 25ms/step - loss: 7.2521 - accuracy: 0.5794 - val_loss: 7.0961 - val_accuracy: 0.5524\n",
      "Epoch 122/128\n",
      "1/1 [==============================] - 0s 21ms/step - loss: 7.2521 - accuracy: 0.5794 - val_loss: 7.0961 - val_accuracy: 0.5524\n",
      "Epoch 123/128\n",
      "1/1 [==============================] - 0s 22ms/step - loss: 7.2521 - accuracy: 0.5794 - val_loss: 7.0961 - val_accuracy: 0.5524\n",
      "Epoch 124/128\n",
      "1/1 [==============================] - 0s 24ms/step - loss: 7.2521 - accuracy: 0.5794 - val_loss: 7.0961 - val_accuracy: 0.5524\n",
      "Epoch 125/128\n",
      "1/1 [==============================] - 0s 21ms/step - loss: 7.2521 - accuracy: 0.5794 - val_loss: 7.0961 - val_accuracy: 0.5524\n",
      "Epoch 126/128\n",
      "1/1 [==============================] - 0s 23ms/step - loss: 7.2521 - accuracy: 0.5794 - val_loss: 7.0961 - val_accuracy: 0.5524\n",
      "Epoch 127/128\n",
      "1/1 [==============================] - 0s 28ms/step - loss: 7.2521 - accuracy: 0.5794 - val_loss: 7.0961 - val_accuracy: 0.5524\n",
      "Epoch 128/128\n",
      "1/1 [==============================] - 0s 28ms/step - loss: 7.2521 - accuracy: 0.5794 - val_loss: 7.0961 - val_accuracy: 0.5524\n"
     ]
    }
   ],
   "source": [
    "#traingin the random forest model \n",
    "history = train_model(model, x_train, y_train, epochs, x_val, y_val, batch_size)"
   ]
  },
  {
   "cell_type": "code",
   "execution_count": 7,
   "metadata": {},
   "outputs": [
    {
     "data": {
      "image/png": "[encoded data removed]",
      "text/plain": [
       "<Figure size 1200x600 with 2 Axes>"
      ]
     },
     "metadata": {},
     "output_type": "display_data"
    }
   ],
   "source": [
    "# Get predictions on the training data\n",
    "plot_training_history(history)"
   ]
  },
  {
   "cell_type": "code",
   "execution_count": 8,
   "metadata": {},
   "outputs": [
    {
     "name": "stdout",
     "output_type": "stream",
     "text": [
      "INFO:tensorflow:Assets written to: ../models/assets\n"
     ]
    },
    {
     "name": "stderr",
     "output_type": "stream",
     "text": [
      "2024-07-09 09:00:21.779601: W tensorflow/python/util/util.cc:348] Sets are not currently considered sequences, but this may change in the future, so consider avoiding using them.\n"
     ]
    }
   ],
   "source": [
    "# Saving the model\n",
    "save_model(model, save_path)"
   ]
  }
 ],
 "metadata": {
  "kernelspec": {
   "display_name": "Python 3 (ipykernel)",
   "language": "python",
   "name": "python3"
  },
  "language_info": {
   "codemirror_mode": {
    "name": "ipython",
    "version": 3
   },
   "file_extension": ".py",
   "mimetype": "text/x-python",
   "name": "python",
   "nbconvert_exporter": "python",
   "pygments_lexer": "ipython3",
   "version": "3.9.19"
  }
 },
 "nbformat": 4,
 "nbformat_minor": 2
}
