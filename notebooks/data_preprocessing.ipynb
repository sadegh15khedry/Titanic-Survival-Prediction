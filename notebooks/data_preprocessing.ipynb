{
 "cells": [
  {
   "cell_type": "code",
   "execution_count": 3,
   "metadata": {},
   "outputs": [],
   "source": [
    "import sys\n",
    "import os\n",
    "import pandas as pd\n",
    "%matplotlib inline\n",
    "import seaborn as sns\n",
    "import matplotlib.pyplot as plt\n",
    "# Add the src directory to the Python path\n",
    "sys.path.append(os.path.abspath('../src'))\n",
    "from data_prepocessing import load_data, split_data, preprocess_data\n",
    "from utils import save_dataframe_as_csv\n",
    "\n",
    "#loading the dataset\n",
    "df = load_data(\"housing_prices_boston.csv\")\n",
    "\n",
    "#setting the maximum number of printing columns \n",
    "pd.set_option('display.max_columns', 20)\n",
    "\n",
    "# Increase the maximum width of the display\n",
    "pd.set_option('display.width', 1000)"
   ]
  },
  {
   "cell_type": "code",
   "execution_count": 4,
   "metadata": {},
   "outputs": [],
   "source": [
    "#preprocessing the data that includes removing duplicate and null values\n",
    "df = preprocess_data(df)"
   ]
  },
  {
   "cell_type": "code",
   "execution_count": 5,
   "metadata": {},
   "outputs": [],
   "source": [
    "#selecting the feature columns \n",
    "feature_columns = ['CRIM', 'ZN', 'INDUS', 'CHAS', 'NOX', 'RM', 'AGE', 'DIS', 'RAD', 'TAX', 'PTRATIO', 'B', 'LSTAT']\n",
    "\n",
    "#selecting the label column\n",
    "label_columns = 'MEDV'\n",
    "\n",
    "#shuffleing the data before splitting\n",
    "df = df.sample(frac=1).reset_index(drop=True)\n",
    "\n",
    "#spiliting the data into x_train, y_train, x_test, y_test\n",
    "x_train, x_test, y_train, y_test = split_data(df, feature_columns, label_columns)\n"
   ]
  },
  {
   "cell_type": "code",
   "execution_count": 6,
   "metadata": {},
   "outputs": [],
   "source": [
    "#saving the x_train, y_train, x_test, y_test\n",
    "save_dataframe_as_csv(x_train, \"../datasets/x_train.csv\")\n",
    "save_dataframe_as_csv(y_train, \"../datasets/y_train.csv\")\n",
    "save_dataframe_as_csv(x_test, \"../datasets/x_test.csv\")\n",
    "save_dataframe_as_csv(y_test, \"../datasets/y_test.csv\")\n"
   ]
  }
 ],
 "metadata": {
  "kernelspec": {
   "display_name": "randomforest",
   "language": "python",
   "name": "python3"
  },
  "language_info": {
   "codemirror_mode": {
    "name": "ipython",
    "version": 3
   },
   "file_extension": ".py",
   "mimetype": "text/x-python",
   "name": "python",
   "nbconvert_exporter": "python",
   "pygments_lexer": "ipython3",
   "version": "3.12.4"
  }
 },
 "nbformat": 4,
 "nbformat_minor": 2
}
