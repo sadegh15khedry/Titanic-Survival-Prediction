{
 "cells": [
  {
   "cell_type": "markdown",
   "metadata": {},
   "source": [
    "# Preprocessing the data"
   ]
  },
  {
   "cell_type": "markdown",
   "metadata": {},
   "source": [
    "## Importing the packages"
   ]
  },
  {
   "cell_type": "code",
   "execution_count": 10,
   "metadata": {},
   "outputs": [],
   "source": [
    "import sys\n",
    "import os\n",
    "%matplotlib inline\n",
    "# Add the src directory to the Python path\n",
    "sys.path.append(os.path.abspath('../src'))\n",
    "from data_prepocessing import  split_data, preprocess_data, normalize_data\n",
    "from utils import save_dataframe_as_csv, set_pandas_display_options, load_data"
   ]
  },
  {
   "cell_type": "markdown",
   "metadata": {},
   "source": [
    "## Loading the dataset"
   ]
  },
  {
   "cell_type": "code",
   "execution_count": 11,
   "metadata": {},
   "outputs": [
    {
     "data": {
      "text/plain": [
       "Index(['passenger_id', 'survived', 'p_class', 'name', 'sex', 'age', 'sib_sp', 'parch', 'ticket', 'fare', 'cabin', 'embarked'], dtype='object')"
      ]
     },
     "execution_count": 11,
     "metadata": {},
     "output_type": "execute_result"
    }
   ],
   "source": [
    "#loading the dataset\n",
    "dataset_path = '../datasets/raw/titanic.csv'\n",
    "df = load_data(dataset_path)\n",
    "df.columns"
   ]
  },
  {
   "cell_type": "markdown",
   "metadata": {},
   "source": [
    "## Initializing the variables"
   ]
  },
  {
   "cell_type": "code",
   "execution_count": 12,
   "metadata": {},
   "outputs": [],
   "source": [
    "test_size = 0.2\n",
    "val_size = 0.2\n",
    "normaliztion_method =  'max_abs'\n",
    "normalization_columns = ['fare', 'sib_sp', 'parch']"
   ]
  },
  {
   "cell_type": "code",
   "execution_count": 13,
   "metadata": {},
   "outputs": [],
   "source": [
    "#setting the maximum number of printing columns \n",
    "set_pandas_display_options()"
   ]
  },
  {
   "cell_type": "code",
   "execution_count": 14,
   "metadata": {},
   "outputs": [
    {
     "name": "stdout",
     "output_type": "stream",
     "text": [
      "(891, 12)\n"
     ]
    },
    {
     "data": {
      "text/plain": [
       "passenger_id      0\n",
       "survived          0\n",
       "p_class           0\n",
       "name              0\n",
       "sex               0\n",
       "age             177\n",
       "sib_sp            0\n",
       "parch             0\n",
       "ticket            0\n",
       "fare              0\n",
       "cabin           687\n",
       "embarked          2\n",
       "dtype: int64"
      ]
     },
     "execution_count": 14,
     "metadata": {},
     "output_type": "execute_result"
    }
   ],
   "source": [
    "#preprocessing the data that includes removing duplicate and null values\n",
    "print(df.shape)\n",
    "null_counts = df.isnull().sum()\n",
    "null_counts\n",
    "# print(df.shape)\n",
    "# df = preprocess_data(df)\n",
    "# print(df.shape)\n",
    "# df.head"
   ]
  },
  {
   "cell_type": "code",
   "execution_count": 15,
   "metadata": {},
   "outputs": [],
   "source": [
    "# normalize_data(df, normaliztion_method, normalization_columns)"
   ]
  },
  {
   "cell_type": "code",
   "execution_count": 16,
   "metadata": {},
   "outputs": [
    {
     "data": {
      "text/plain": [
       "Index(['passenger_id', 'survived', 'p_class', 'name', 'sex', 'age', 'sib_sp', 'parch', 'ticket', 'fare', 'cabin', 'embarked'], dtype='object')"
      ]
     },
     "execution_count": 16,
     "metadata": {},
     "output_type": "execute_result"
    }
   ],
   "source": [
    "# One-hot encode 'Sex' column\n",
    "# import pandas as pd\n",
    "# df = pd.get_dummies(df, columns=['sex'], drop_first=False)\n",
    "df.columns"
   ]
  },
  {
   "cell_type": "code",
   "execution_count": 17,
   "metadata": {},
   "outputs": [],
   "source": [
    "#selecting the feature columns \n",
    "# feature_columns = ['p_class', 'sib_sp', 'parch', 'fare']\n",
    "selected_feature_columns =['fare', 'survived']\n",
    "feature_columns = ['fare']\n",
    "#selecting the label column\n",
    "label_columns = 'survived'\n",
    "\n",
    "\n",
    "#shuffleing the data before splitting\n",
    "df = df.sample(frac=1).reset_index(drop=True)\n",
    "df = df[selected_feature_columns]\n",
    "df.head\n",
    "# normalize_data(df, normaliztion_method, feature_columns)\n",
    "\n",
    "#spiliting the data into x_train, y_train, x_test, y_test\n",
    "x_train, x_test, x_val, y_train, y_val, y_test = split_data(df, feature_columns, label_columns, test_size=test_size, val_size=val_size)\n",
    "\n",
    "\n"
   ]
  },
  {
   "cell_type": "markdown",
   "metadata": {},
   "source": [
    "## Saving the x_train, y_train, x_val, y_val, x_test, y_test"
   ]
  },
  {
   "cell_type": "code",
   "execution_count": 18,
   "metadata": {},
   "outputs": [],
   "source": [
    "\n",
    "save_dataframe_as_csv(x_train, \"../datasets/ready/train/x_train.csv\")\n",
    "save_dataframe_as_csv(y_train, \"../datasets/ready/train/y_train.csv\")\n",
    "save_dataframe_as_csv(x_val, \"../datasets/ready/val/x_val.csv\")\n",
    "save_dataframe_as_csv(y_val, \"../datasets/ready/val/y_val.csv\")\n",
    "save_dataframe_as_csv(x_test, \"../datasets/ready/test/x_test.csv\")\n",
    "save_dataframe_as_csv(y_test, \"../datasets/ready/test/y_test.csv\")\n"
   ]
  }
 ],
 "metadata": {
  "kernelspec": {
   "display_name": "Python 3 (ipykernel)",
   "language": "python",
   "name": "python3"
  },
  "language_info": {
   "codemirror_mode": {
    "name": "ipython",
    "version": 3
   },
   "file_extension": ".py",
   "mimetype": "text/x-python",
   "name": "python",
   "nbconvert_exporter": "python",
   "pygments_lexer": "ipython3",
   "version": "3.9.19"
  }
 },
 "nbformat": 4,
 "nbformat_minor": 2
}
