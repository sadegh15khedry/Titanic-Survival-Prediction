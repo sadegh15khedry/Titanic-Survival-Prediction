{
 "cells": [
  {
   "cell_type": "markdown",
   "metadata": {},
   "source": [
    "# Preprocessing the data"
   ]
  },
  {
   "cell_type": "markdown",
   "metadata": {},
   "source": [
    "## Importing the packages"
   ]
  },
  {
   "cell_type": "code",
   "execution_count": 9,
   "metadata": {},
   "outputs": [],
   "source": [
    "import sys\n",
    "import os\n",
    "%matplotlib inline\n",
    "# Add the src directory to the Python path\n",
    "sys.path.append(os.path.abspath('../src'))\n",
    "from data_prepocessing import  split_data, preprocess_data, normalize_data\n",
    "from utils import save_dataframe_as_csv, set_pandas_display_options, load_data"
   ]
  },
  {
   "cell_type": "markdown",
   "metadata": {},
   "source": [
    "## Loading the dataset"
   ]
  },
  {
   "cell_type": "code",
   "execution_count": 10,
   "metadata": {},
   "outputs": [
    {
     "data": {
      "text/plain": [
       "Index(['passenger_id', 'survived', 'p_class', 'name', 'sex', 'age', 'sib_sp', 'parch', 'ticket', 'fare', 'cabin', 'embarked'], dtype='object')"
      ]
     },
     "execution_count": 10,
     "metadata": {},
     "output_type": "execute_result"
    }
   ],
   "source": [
    "#loading the dataset\n",
    "dataset_path = '../datasets/raw/titanic.csv'\n",
    "df = load_data(dataset_path)\n",
    "df.columns"
   ]
  },
  {
   "cell_type": "markdown",
   "metadata": {},
   "source": [
    "## Initializing the variables"
   ]
  },
  {
   "cell_type": "code",
   "execution_count": 11,
   "metadata": {},
   "outputs": [],
   "source": [
    "test_size = 0.2\n",
    "val_size = 0.2\n",
    "features = ['survived', 'p_class', 'sex', 'age', 'sib_sp', 'parch', 'fare']\n",
    "normaliztion_method =  'z_score'\n",
    "normalization_columns = ['p_class','age', 'fare']"
   ]
  },
  {
   "cell_type": "code",
   "execution_count": 12,
   "metadata": {},
   "outputs": [],
   "source": [
    "#setting the maximum number of printing columns \n",
    "set_pandas_display_options()"
   ]
  },
  {
   "cell_type": "code",
   "execution_count": 13,
   "metadata": {},
   "outputs": [
    {
     "name": "stdout",
     "output_type": "stream",
     "text": [
      "(891, 12)\n"
     ]
    },
    {
     "data": {
      "text/plain": [
       "<bound method NDFrame.head of      survived  p_class     sex   age  sib_sp  parch     fare\n",
       "0           0        3    male  22.0       1      0   7.2500\n",
       "1           1        1  female  38.0       1      0  71.2833\n",
       "2           1        3  female  26.0       0      0   7.9250\n",
       "3           1        1  female  35.0       1      0  53.1000\n",
       "4           0        3    male  35.0       0      0   8.0500\n",
       "..        ...      ...     ...   ...     ...    ...      ...\n",
       "885         0        3  female  39.0       0      5  29.1250\n",
       "886         0        2    male  27.0       0      0  13.0000\n",
       "887         1        1  female  19.0       0      0  30.0000\n",
       "889         1        1    male  26.0       0      0  30.0000\n",
       "890         0        3    male  32.0       0      0   7.7500\n",
       "\n",
       "[714 rows x 7 columns]>"
      ]
     },
     "execution_count": 13,
     "metadata": {},
     "output_type": "execute_result"
    }
   ],
   "source": [
    "#preprocessing the data that includes removing duplicate and null values\n",
    "print(df.shape)\n",
    "df = df[features]\n",
    "df = preprocess_data(df)\n",
    "# print(df.shape)\n",
    "df.head"
   ]
  },
  {
   "cell_type": "code",
   "execution_count": 14,
   "metadata": {},
   "outputs": [
    {
     "data": {
      "text/html": [
       "<div>\n",
       "<style scoped>\n",
       "    .dataframe tbody tr th:only-of-type {\n",
       "        vertical-align: middle;\n",
       "    }\n",
       "\n",
       "    .dataframe tbody tr th {\n",
       "        vertical-align: top;\n",
       "    }\n",
       "\n",
       "    .dataframe thead th {\n",
       "        text-align: right;\n",
       "    }\n",
       "</style>\n",
       "<table border=\"1\" class=\"dataframe\">\n",
       "  <thead>\n",
       "    <tr style=\"text-align: right;\">\n",
       "      <th></th>\n",
       "      <th>survived</th>\n",
       "      <th>p_class</th>\n",
       "      <th>sex</th>\n",
       "      <th>age</th>\n",
       "      <th>sib_sp</th>\n",
       "      <th>parch</th>\n",
       "      <th>fare</th>\n",
       "    </tr>\n",
       "  </thead>\n",
       "  <tbody>\n",
       "    <tr>\n",
       "      <th>0</th>\n",
       "      <td>0</td>\n",
       "      <td>0.910594</td>\n",
       "      <td>male</td>\n",
       "      <td>-0.530005</td>\n",
       "      <td>1</td>\n",
       "      <td>0</td>\n",
       "      <td>-0.518614</td>\n",
       "    </tr>\n",
       "    <tr>\n",
       "      <th>1</th>\n",
       "      <td>1</td>\n",
       "      <td>-1.475329</td>\n",
       "      <td>female</td>\n",
       "      <td>0.571430</td>\n",
       "      <td>1</td>\n",
       "      <td>0</td>\n",
       "      <td>0.691412</td>\n",
       "    </tr>\n",
       "    <tr>\n",
       "      <th>2</th>\n",
       "      <td>1</td>\n",
       "      <td>0.910594</td>\n",
       "      <td>female</td>\n",
       "      <td>-0.254646</td>\n",
       "      <td>0</td>\n",
       "      <td>0</td>\n",
       "      <td>-0.505859</td>\n",
       "    </tr>\n",
       "    <tr>\n",
       "      <th>3</th>\n",
       "      <td>1</td>\n",
       "      <td>-1.475329</td>\n",
       "      <td>female</td>\n",
       "      <td>0.364911</td>\n",
       "      <td>1</td>\n",
       "      <td>0</td>\n",
       "      <td>0.347805</td>\n",
       "    </tr>\n",
       "    <tr>\n",
       "      <th>4</th>\n",
       "      <td>0</td>\n",
       "      <td>0.910594</td>\n",
       "      <td>male</td>\n",
       "      <td>0.364911</td>\n",
       "      <td>0</td>\n",
       "      <td>0</td>\n",
       "      <td>-0.503497</td>\n",
       "    </tr>\n",
       "    <tr>\n",
       "      <th>...</th>\n",
       "      <td>...</td>\n",
       "      <td>...</td>\n",
       "      <td>...</td>\n",
       "      <td>...</td>\n",
       "      <td>...</td>\n",
       "      <td>...</td>\n",
       "      <td>...</td>\n",
       "    </tr>\n",
       "    <tr>\n",
       "      <th>885</th>\n",
       "      <td>0</td>\n",
       "      <td>0.910594</td>\n",
       "      <td>female</td>\n",
       "      <td>0.640270</td>\n",
       "      <td>0</td>\n",
       "      <td>5</td>\n",
       "      <td>-0.105246</td>\n",
       "    </tr>\n",
       "    <tr>\n",
       "      <th>886</th>\n",
       "      <td>0</td>\n",
       "      <td>-0.282368</td>\n",
       "      <td>male</td>\n",
       "      <td>-0.185807</td>\n",
       "      <td>0</td>\n",
       "      <td>0</td>\n",
       "      <td>-0.409958</td>\n",
       "    </tr>\n",
       "    <tr>\n",
       "      <th>887</th>\n",
       "      <td>1</td>\n",
       "      <td>-1.475329</td>\n",
       "      <td>female</td>\n",
       "      <td>-0.736524</td>\n",
       "      <td>0</td>\n",
       "      <td>0</td>\n",
       "      <td>-0.088711</td>\n",
       "    </tr>\n",
       "    <tr>\n",
       "      <th>889</th>\n",
       "      <td>1</td>\n",
       "      <td>-1.475329</td>\n",
       "      <td>male</td>\n",
       "      <td>-0.254646</td>\n",
       "      <td>0</td>\n",
       "      <td>0</td>\n",
       "      <td>-0.088711</td>\n",
       "    </tr>\n",
       "    <tr>\n",
       "      <th>890</th>\n",
       "      <td>0</td>\n",
       "      <td>0.910594</td>\n",
       "      <td>male</td>\n",
       "      <td>0.158392</td>\n",
       "      <td>0</td>\n",
       "      <td>0</td>\n",
       "      <td>-0.509166</td>\n",
       "    </tr>\n",
       "  </tbody>\n",
       "</table>\n",
       "<p>714 rows × 7 columns</p>\n",
       "</div>"
      ],
      "text/plain": [
       "     survived   p_class     sex       age  sib_sp  parch      fare\n",
       "0           0  0.910594    male -0.530005       1      0 -0.518614\n",
       "1           1 -1.475329  female  0.571430       1      0  0.691412\n",
       "2           1  0.910594  female -0.254646       0      0 -0.505859\n",
       "3           1 -1.475329  female  0.364911       1      0  0.347805\n",
       "4           0  0.910594    male  0.364911       0      0 -0.503497\n",
       "..        ...       ...     ...       ...     ...    ...       ...\n",
       "885         0  0.910594  female  0.640270       0      5 -0.105246\n",
       "886         0 -0.282368    male -0.185807       0      0 -0.409958\n",
       "887         1 -1.475329  female -0.736524       0      0 -0.088711\n",
       "889         1 -1.475329    male -0.254646       0      0 -0.088711\n",
       "890         0  0.910594    male  0.158392       0      0 -0.509166\n",
       "\n",
       "[714 rows x 7 columns]"
      ]
     },
     "execution_count": 14,
     "metadata": {},
     "output_type": "execute_result"
    }
   ],
   "source": [
    "normalize_data(df, normaliztion_method, normalization_columns)"
   ]
  },
  {
   "cell_type": "code",
   "execution_count": 15,
   "metadata": {},
   "outputs": [
    {
     "data": {
      "text/plain": [
       "Index(['survived', 'p_class', 'age', 'sib_sp', 'parch', 'fare', 'sex_female', 'sex_male'], dtype='object')"
      ]
     },
     "execution_count": 15,
     "metadata": {},
     "output_type": "execute_result"
    }
   ],
   "source": [
    "# One-hot encode 'Sex' column\n",
    "import pandas as pd\n",
    "df = pd.get_dummies(df, columns=['sex'], drop_first=False)\n",
    "df.columns"
   ]
  },
  {
   "cell_type": "code",
   "execution_count": 16,
   "metadata": {},
   "outputs": [],
   "source": [
    "#selecting the feature columns \n",
    "feature_columns = ['survived', 'p_class', 'sex_male','sex_female', 'age', 'sib_sp', 'parch', 'fare']\n",
    "\n",
    "#selecting the label column\n",
    "label_columns = 'survived'\n",
    "\n",
    "#shuffleing the data before splitting\n",
    "df = df.sample(frac=1).reset_index(drop=True)\n",
    "\n",
    "#spiliting the data into x_train, y_train, x_test, y_test\n",
    "x_train, x_test, x_val, y_train, y_val, y_test = split_data(df, feature_columns, label_columns, test_size=test_size, val_size=val_size)\n"
   ]
  },
  {
   "cell_type": "markdown",
   "metadata": {},
   "source": [
    "## Saving the x_train, y_train, x_val, y_val, x_test, y_test"
   ]
  },
  {
   "cell_type": "code",
   "execution_count": 17,
   "metadata": {},
   "outputs": [],
   "source": [
    "\n",
    "save_dataframe_as_csv(x_train, \"../datasets/ready/train/x_train.csv\")\n",
    "save_dataframe_as_csv(y_train, \"../datasets/ready/train/y_train.csv\")\n",
    "save_dataframe_as_csv(x_val, \"../datasets/ready/val/x_val.csv\")\n",
    "save_dataframe_as_csv(y_val, \"../datasets/ready/val/y_val.csv\")\n",
    "save_dataframe_as_csv(x_test, \"../datasets/ready/test/x_test.csv\")\n",
    "save_dataframe_as_csv(y_test, \"../datasets/ready/test/y_test.csv\")\n"
   ]
  }
 ],
 "metadata": {
  "kernelspec": {
   "display_name": "Python 3 (ipykernel)",
   "language": "python",
   "name": "python3"
  },
  "language_info": {
   "codemirror_mode": {
    "name": "ipython",
    "version": 3
   },
   "file_extension": ".py",
   "mimetype": "text/x-python",
   "name": "python",
   "nbconvert_exporter": "python",
   "pygments_lexer": "ipython3",
   "version": "3.9.19"
  }
 },
 "nbformat": 4,
 "nbformat_minor": 2
}
