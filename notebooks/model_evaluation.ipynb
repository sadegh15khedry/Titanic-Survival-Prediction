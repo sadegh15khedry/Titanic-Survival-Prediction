{
 "cells": [
  {
   "cell_type": "code",
   "execution_count": 1,
   "metadata": {},
   "outputs": [],
   "source": [
    "import sys\n",
    "import os\n",
    "from sklearn.metrics import mean_squared_error\n",
    "%matplotlib inline\n",
    "sys.path.append(os.path.abspath('../src'))\n",
    "from utils import load_model\n",
    "from data_prepocessing import load_data\n",
    "\n",
    "#loeading the trained model\n",
    "model = load_model('../models/random_forest.joblib')\n",
    "\n",
    "#loading the datasets\n",
    "x_test = load_data(\"x_test.csv\")\n",
    "y_test = load_data(\"y_test.csv\")"
   ]
  },
  {
   "cell_type": "code",
   "execution_count": 2,
   "metadata": {},
   "outputs": [
    {
     "name": "stdout",
     "output_type": "stream",
     "text": [
      "Training MSE: 8.192955367468441\n"
     ]
    }
   ],
   "source": [
    "# Get predictions on the test data\n",
    "y_pred_test = model.predict(x_test)\n",
    "\n",
    "# Calculate Mean Squared Error (MSE)\n",
    "mse_train = mean_squared_error(y_test, y_pred_test)\n",
    "print(f\"Training MSE: {mse_train}\")"
   ]
  }
 ],
 "metadata": {
  "kernelspec": {
   "display_name": "Python 3 (ipykernel)",
   "language": "python",
   "name": "python3"
  }
 },
 "nbformat": 4,
 "nbformat_minor": 2
}
