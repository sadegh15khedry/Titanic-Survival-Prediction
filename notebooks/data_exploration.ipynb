{
 "cells": [
  {
   "cell_type": "markdown",
   "id": "c14684ef",
   "metadata": {},
   "source": [
    "## Data Exploration"
   ]
  },
  {
   "cell_type": "markdown",
   "id": "b8f23796",
   "metadata": {},
   "source": [
    "### Packages Import"
   ]
  },
  {
   "cell_type": "code",
   "execution_count": 1,
   "id": "c00b83ca",
   "metadata": {},
   "outputs": [
    {
     "name": "stderr",
     "output_type": "stream",
     "text": [
      "2024-08-08 15:44:55.371559: I tensorflow/stream_executor/platform/default/dso_loader.cc:53] Successfully opened dynamic library libcudart.so.11.0\n"
     ]
    }
   ],
   "source": [
    "import sys\n",
    "import os\n",
    "# Add the src directory to the Python path\n",
    "sys.path.append(os.path.abspath('../src'))\n",
    "from utils import set_pandas_display_options,  load_data\n",
    "from data_exploration import visualize_correlation_matrix, get_columns_values_counts"
   ]
  },
  {
   "cell_type": "markdown",
   "id": "184b6c23",
   "metadata": {},
   "source": [
    "### Dataset Load"
   ]
  },
  {
   "cell_type": "code",
   "execution_count": 2,
   "id": "a5438905",
   "metadata": {},
   "outputs": [],
   "source": [
    "\n",
    "dataset_path = '../datasets/raw/titanic.csv'\n",
    "df = load_data(dataset_path)"
   ]
  },
  {
   "cell_type": "markdown",
   "id": "86d31bbf",
   "metadata": {},
   "source": [
    "### Proper Columns Selection"
   ]
  },
  {
   "cell_type": "code",
   "execution_count": 3,
   "id": "ec55e1f3",
   "metadata": {},
   "outputs": [
    {
     "name": "stdout",
     "output_type": "stream",
     "text": [
      "['survived', 'passenger_class', 'sex', 'sibling_spouse', 'parent_children', 'fare', 'cabin_number', 'embarked_port']\n"
     ]
    }
   ],
   "source": [
    "columns = ['survived', 'passenger_class',  'sex',\n",
    "       'sibling_spouse', 'parent_children', 'fare', 'cabin_number',\n",
    "       'embarked_port']\n",
    "df = df[columns]\n",
    "\n",
    "print(columns)"
   ]
  },
  {
   "cell_type": "markdown",
   "id": "317efe9d",
   "metadata": {},
   "source": [
    "### Dataset Shape"
   ]
  },
  {
   "cell_type": "code",
   "execution_count": 4,
   "id": "1184189e",
   "metadata": {},
   "outputs": [
    {
     "data": {
      "text/plain": [
       "(891, 8)"
      ]
     },
     "execution_count": 4,
     "metadata": {},
     "output_type": "execute_result"
    }
   ],
   "source": [
    "df.shape"
   ]
  },
  {
   "cell_type": "markdown",
   "id": "821d88c3",
   "metadata": {},
   "source": [
    "### Pandas Display Options"
   ]
  },
  {
   "cell_type": "code",
   "execution_count": 5,
   "id": "78d75110",
   "metadata": {},
   "outputs": [],
   "source": [
    "#setting the maximum number of printing columns \n",
    "set_pandas_display_options()\n"
   ]
  },
  {
   "cell_type": "markdown",
   "id": "1203f126",
   "metadata": {},
   "source": [
    "### Columns Information"
   ]
  },
  {
   "cell_type": "code",
   "execution_count": 6,
   "id": "611de9ee",
   "metadata": {},
   "outputs": [
    {
     "name": "stdout",
     "output_type": "stream",
     "text": [
      "<class 'pandas.core.frame.DataFrame'>\n",
      "RangeIndex: 891 entries, 0 to 890\n",
      "Data columns (total 8 columns):\n",
      " #   Column           Non-Null Count  Dtype  \n",
      "---  ------           --------------  -----  \n",
      " 0   survived         891 non-null    int64  \n",
      " 1   passenger_class  891 non-null    int64  \n",
      " 2   sex              891 non-null    object \n",
      " 3   sibling_spouse   891 non-null    int64  \n",
      " 4   parent_children  891 non-null    int64  \n",
      " 5   fare             891 non-null    float64\n",
      " 6   cabin_number     204 non-null    object \n",
      " 7   embarked_port    889 non-null    object \n",
      "dtypes: float64(1), int64(4), object(3)\n",
      "memory usage: 55.8+ KB\n"
     ]
    }
   ],
   "source": [
    "df.info()"
   ]
  },
  {
   "cell_type": "code",
   "execution_count": 7,
   "id": "6d7c53f8",
   "metadata": {},
   "outputs": [
    {
     "name": "stdout",
     "output_type": "stream",
     "text": [
      "survived\n",
      "0    549\n",
      "1    342\n",
      "Name: survived, dtype: int64 \n",
      "\n",
      "passenger_class\n",
      "3    491\n",
      "1    216\n",
      "2    184\n",
      "Name: passenger_class, dtype: int64 \n",
      "\n",
      "sex\n",
      "male      577\n",
      "female    314\n",
      "Name: sex, dtype: int64 \n",
      "\n",
      "sibling_spouse\n",
      "0    608\n",
      "1    209\n",
      "2     28\n",
      "4     18\n",
      "3     16\n",
      "8      7\n",
      "5      5\n",
      "Name: sibling_spouse, dtype: int64 \n",
      "\n",
      "parent_children\n",
      "0    678\n",
      "1    118\n",
      "2     80\n",
      "5      5\n",
      "3      5\n",
      "4      4\n",
      "6      1\n",
      "Name: parent_children, dtype: int64 \n",
      "\n",
      "fare\n",
      "8.0500     43\n",
      "13.0000    42\n",
      "7.8958     38\n",
      "7.7500     34\n",
      "26.0000    31\n",
      "           ..\n",
      "8.4583      1\n",
      "9.8375      1\n",
      "8.3625      1\n",
      "14.1083     1\n",
      "17.4000     1\n",
      "Name: fare, Length: 248, dtype: int64 \n",
      "\n",
      "cabin_number\n",
      "G6             4\n",
      "C23 C25 C27    4\n",
      "B96 B98        4\n",
      "C22 C26        3\n",
      "F33            3\n",
      "              ..\n",
      "E34            1\n",
      "C104           1\n",
      "B78            1\n",
      "C49            1\n",
      "B82 B84        1\n",
      "Name: cabin_number, Length: 147, dtype: int64 \n",
      "\n",
      "embarked_port\n",
      "S    644\n",
      "C    168\n",
      "Q     77\n",
      "Name: embarked_port, dtype: int64 \n",
      "\n"
     ]
    }
   ],
   "source": [
    "# df.columns\n",
    "get_columns_values_counts(df)"
   ]
  },
  {
   "cell_type": "markdown",
   "id": "dc704400",
   "metadata": {},
   "source": [
    "```\n",
    "survived\n",
    "0    549\n",
    "1    342\n",
    "\n",
    "\n",
    "passenger_class\n",
    "3    491\n",
    "1    216\n",
    "2    184\n",
    "\n",
    "\n",
    "sex\n",
    "male      577\n",
    "female    314\n",
    "\n",
    "\n",
    "sibling_spouse\n",
    "0    608\n",
    "1    209\n",
    "2     28\n",
    "4     18\n",
    "3     16\n",
    "8      7\n",
    "5      5\n",
    "\n",
    "\n",
    "parent_children\n",
    "0    678\n",
    "1    118\n",
    "2     80\n",
    "5      5\n",
    "3      5\n",
    "4      4\n",
    "6      1\n",
    "\n",
    "\n",
    "fare\n",
    "8.0500     43\n",
    "13.0000    42\n",
    "7.8958     38\n",
    "7.7500     34\n",
    "26.0000    31\n",
    "           ..\n",
    "8.4583      1\n",
    "9.8375      1\n",
    "8.3625      1\n",
    "14.1083     1\n",
    "17.4000     1\n",
    "\n",
    "\n",
    "cabin_number\n",
    "G6             4\n",
    "C23 C25 C27    4\n",
    "B96 B98        4\n",
    "C22 C26        3\n",
    "F33            3\n",
    "              ..\n",
    "E34            1\n",
    "C104           1\n",
    "B78            1\n",
    "C49            1\n",
    "B82 B84        1\n",
    "\n",
    "\n",
    "embarked_port\n",
    "S    644\n",
    "C    168\n",
    "Q     77\n",
    "\n",
    "```\n"
   ]
  },
  {
   "cell_type": "code",
   "execution_count": 8,
   "id": "e07676e1",
   "metadata": {},
   "outputs": [
    {
     "data": {
      "text/html": [
       "<div>\n",
       "<style scoped>\n",
       "    .dataframe tbody tr th:only-of-type {\n",
       "        vertical-align: middle;\n",
       "    }\n",
       "\n",
       "    .dataframe tbody tr th {\n",
       "        vertical-align: top;\n",
       "    }\n",
       "\n",
       "    .dataframe thead th {\n",
       "        text-align: right;\n",
       "    }\n",
       "</style>\n",
       "<table border=\"1\" class=\"dataframe\">\n",
       "  <thead>\n",
       "    <tr style=\"text-align: right;\">\n",
       "      <th></th>\n",
       "      <th>count</th>\n",
       "      <th>mean</th>\n",
       "      <th>std</th>\n",
       "      <th>min</th>\n",
       "      <th>25%</th>\n",
       "      <th>50%</th>\n",
       "      <th>75%</th>\n",
       "      <th>max</th>\n",
       "    </tr>\n",
       "  </thead>\n",
       "  <tbody>\n",
       "    <tr>\n",
       "      <th>survived</th>\n",
       "      <td>891.0</td>\n",
       "      <td>0.383838</td>\n",
       "      <td>0.486592</td>\n",
       "      <td>0.0</td>\n",
       "      <td>0.0000</td>\n",
       "      <td>0.0000</td>\n",
       "      <td>1.0</td>\n",
       "      <td>1.0000</td>\n",
       "    </tr>\n",
       "    <tr>\n",
       "      <th>passenger_class</th>\n",
       "      <td>891.0</td>\n",
       "      <td>2.308642</td>\n",
       "      <td>0.836071</td>\n",
       "      <td>1.0</td>\n",
       "      <td>2.0000</td>\n",
       "      <td>3.0000</td>\n",
       "      <td>3.0</td>\n",
       "      <td>3.0000</td>\n",
       "    </tr>\n",
       "    <tr>\n",
       "      <th>sibling_spouse</th>\n",
       "      <td>891.0</td>\n",
       "      <td>0.523008</td>\n",
       "      <td>1.102743</td>\n",
       "      <td>0.0</td>\n",
       "      <td>0.0000</td>\n",
       "      <td>0.0000</td>\n",
       "      <td>1.0</td>\n",
       "      <td>8.0000</td>\n",
       "    </tr>\n",
       "    <tr>\n",
       "      <th>parent_children</th>\n",
       "      <td>891.0</td>\n",
       "      <td>0.381594</td>\n",
       "      <td>0.806057</td>\n",
       "      <td>0.0</td>\n",
       "      <td>0.0000</td>\n",
       "      <td>0.0000</td>\n",
       "      <td>0.0</td>\n",
       "      <td>6.0000</td>\n",
       "    </tr>\n",
       "    <tr>\n",
       "      <th>fare</th>\n",
       "      <td>891.0</td>\n",
       "      <td>32.204208</td>\n",
       "      <td>49.693429</td>\n",
       "      <td>0.0</td>\n",
       "      <td>7.9104</td>\n",
       "      <td>14.4542</td>\n",
       "      <td>31.0</td>\n",
       "      <td>512.3292</td>\n",
       "    </tr>\n",
       "  </tbody>\n",
       "</table>\n",
       "</div>"
      ],
      "text/plain": [
       "                 count       mean        std  min     25%      50%   75%       max\n",
       "survived         891.0   0.383838   0.486592  0.0  0.0000   0.0000   1.0    1.0000\n",
       "passenger_class  891.0   2.308642   0.836071  1.0  2.0000   3.0000   3.0    3.0000\n",
       "sibling_spouse   891.0   0.523008   1.102743  0.0  0.0000   0.0000   1.0    8.0000\n",
       "parent_children  891.0   0.381594   0.806057  0.0  0.0000   0.0000   0.0    6.0000\n",
       "fare             891.0  32.204208  49.693429  0.0  7.9104  14.4542  31.0  512.3292"
      ]
     },
     "execution_count": 8,
     "metadata": {},
     "output_type": "execute_result"
    }
   ],
   "source": [
    "df.describe().transpose()"
   ]
  },
  {
   "cell_type": "code",
   "execution_count": 9,
   "id": "012e6e0f",
   "metadata": {},
   "outputs": [
    {
     "data": {
      "text/plain": [
       "survived             0\n",
       "passenger_class      0\n",
       "sex                  0\n",
       "sibling_spouse       0\n",
       "parent_children      0\n",
       "fare                 0\n",
       "cabin_number       687\n",
       "embarked_port        2\n",
       "dtype: int64"
      ]
     },
     "execution_count": 9,
     "metadata": {},
     "output_type": "execute_result"
    }
   ],
   "source": [
    "df.isnull().sum()"
   ]
  },
  {
   "cell_type": "code",
   "execution_count": 10,
   "id": "19947744",
   "metadata": {},
   "outputs": [
    {
     "data": {
      "text/plain": [
       "354"
      ]
     },
     "execution_count": 10,
     "metadata": {},
     "output_type": "execute_result"
    }
   ],
   "source": [
    "df.duplicated().sum()"
   ]
  },
  {
   "cell_type": "code",
   "execution_count": 11,
   "id": "aeae0dfc",
   "metadata": {},
   "outputs": [
    {
     "data": {
      "image/png": "[encoded data removed]",
      "text/plain": [
       "<Figure size 1000x800 with 2 Axes>"
      ]
     },
     "metadata": {},
     "output_type": "display_data"
    }
   ],
   "source": [
    "#getting the correlation matrix \n",
    "correlation_matrix = df.corr()\n",
    "# print(correlation_matrix)\n",
    "\n",
    "#visualizing the correlation matrix\n",
    "visualize_correlation_matrix(correlation_matrix)\n",
    "\n",
    "# plt.figure(figsize=(10, 8))\n",
    "# sns.heatmap(correlation_matrix, annot=True, cmap='coolwarm', center=0)\n",
    "# plt.title('Correlation Matrix Heatmap')\n",
    "# plt.show()\n"
   ]
  }
 ],
 "metadata": {
  "kernelspec": {
   "display_name": "Python 3 (ipykernel)",
   "language": "python",
   "name": "python3"
  },
  "language_info": {
   "codemirror_mode": {
    "name": "ipython",
    "version": 3
   },
   "file_extension": ".py",
   "mimetype": "text/x-python",
   "name": "python",
   "nbconvert_exporter": "python",
   "pygments_lexer": "ipython3",
   "version": "3.9.19"
  }
 },
 "nbformat": 4,
 "nbformat_minor": 5
}
